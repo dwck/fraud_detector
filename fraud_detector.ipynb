{
 "cells": [
  {
   "cell_type": "code",
   "execution_count": 22,
   "metadata": {},
   "outputs": [],
   "source": [
    "import pandas as pd\n",
    "import numpy as np\n",
    "import inflection\n",
    "import matplotlib.pyplot as plt\n",
    "import seaborn as sns\n",
    "from matplotlib import rcParams\n",
    "\n",
    "pd.set_option('display.float_format', lambda x: '%.3f' % x)"
   ]
  },
  {
   "cell_type": "code",
   "execution_count": 3,
   "metadata": {},
   "outputs": [],
   "source": [
    "df = pd.read_csv('raw_data/raw_data.csv')"
   ]
  },
  {
   "cell_type": "code",
   "execution_count": 4,
   "metadata": {},
   "outputs": [
    {
     "data": {
      "text/plain": [
       "Index(['step', 'type', 'amount', 'name_orig', 'oldbalance_orig',\n",
       "       'newbalance_orig', 'name_dest', 'oldbalance_dest', 'newbalance_dest',\n",
       "       'is_fraud', 'is_flagged_fraud'],\n",
       "      dtype='object')"
      ]
     },
     "execution_count": 4,
     "metadata": {},
     "output_type": "execute_result"
    }
   ],
   "source": [
    "cols_old = ['step', 'type', 'amount', 'nameOrig', 'oldbalanceOrig', 'newbalanceOrig',\n",
    "       'nameDest', 'oldbalanceDest', 'newbalanceDest', 'isFraud',\n",
    "       'isFlaggedFraud']\n",
    "snakecase = lambda x: inflection.underscore(x)\n",
    "cols_new = list(map(snakecase,cols_old))\n",
    "df.columns = cols_new\n",
    "df.columns"
   ]
  },
  {
   "cell_type": "code",
   "execution_count": 22,
   "metadata": {},
   "outputs": [
    {
     "data": {
      "text/plain": [
       "step                0\n",
       "type                0\n",
       "amount              0\n",
       "name_orig           0\n",
       "oldbalance_orig     0\n",
       "newbalance_orig     0\n",
       "name_dest           0\n",
       "oldbalance_dest     0\n",
       "newbalance_dest     0\n",
       "is_fraud            0\n",
       "is_flagged_fraud    0\n",
       "date                0\n",
       "hour                0\n",
       "day                 0\n",
       "dtype: int64"
      ]
     },
     "execution_count": 22,
     "metadata": {},
     "output_type": "execute_result"
    }
   ],
   "source": [
    "df.isna().sum()"
   ]
  },
  {
   "cell_type": "code",
   "execution_count": 16,
   "metadata": {},
   "outputs": [
    {
     "data": {
      "text/html": [
       "<div>\n",
       "<style scoped>\n",
       "    .dataframe tbody tr th:only-of-type {\n",
       "        vertical-align: middle;\n",
       "    }\n",
       "\n",
       "    .dataframe tbody tr th {\n",
       "        vertical-align: top;\n",
       "    }\n",
       "\n",
       "    .dataframe thead th {\n",
       "        text-align: right;\n",
       "    }\n",
       "</style>\n",
       "<table border=\"1\" class=\"dataframe\">\n",
       "  <thead>\n",
       "    <tr style=\"text-align: right;\">\n",
       "      <th></th>\n",
       "      <th>step</th>\n",
       "      <th>type</th>\n",
       "      <th>amount</th>\n",
       "      <th>name_orig</th>\n",
       "      <th>oldbalance_orig</th>\n",
       "      <th>newbalance_orig</th>\n",
       "      <th>name_dest</th>\n",
       "      <th>oldbalance_dest</th>\n",
       "      <th>newbalance_dest</th>\n",
       "      <th>is_fraud</th>\n",
       "      <th>is_flagged_fraud</th>\n",
       "      <th>date</th>\n",
       "      <th>hour</th>\n",
       "      <th>day</th>\n",
       "    </tr>\n",
       "  </thead>\n",
       "  <tbody>\n",
       "    <tr>\n",
       "      <th>0</th>\n",
       "      <td>1</td>\n",
       "      <td>PAYMENT</td>\n",
       "      <td>9839.64</td>\n",
       "      <td>C1231006815</td>\n",
       "      <td>170136.0</td>\n",
       "      <td>160296.36</td>\n",
       "      <td>M1979787155</td>\n",
       "      <td>0.0</td>\n",
       "      <td>0.0</td>\n",
       "      <td>0</td>\n",
       "      <td>0</td>\n",
       "      <td>0 days 01:00:00</td>\n",
       "      <td>1</td>\n",
       "      <td>0</td>\n",
       "    </tr>\n",
       "    <tr>\n",
       "      <th>1</th>\n",
       "      <td>1</td>\n",
       "      <td>PAYMENT</td>\n",
       "      <td>1864.28</td>\n",
       "      <td>C1666544295</td>\n",
       "      <td>21249.0</td>\n",
       "      <td>19384.72</td>\n",
       "      <td>M2044282225</td>\n",
       "      <td>0.0</td>\n",
       "      <td>0.0</td>\n",
       "      <td>0</td>\n",
       "      <td>0</td>\n",
       "      <td>0 days 01:00:00</td>\n",
       "      <td>1</td>\n",
       "      <td>0</td>\n",
       "    </tr>\n",
       "    <tr>\n",
       "      <th>2</th>\n",
       "      <td>1</td>\n",
       "      <td>TRANSFER</td>\n",
       "      <td>181.00</td>\n",
       "      <td>C1305486145</td>\n",
       "      <td>181.0</td>\n",
       "      <td>0.00</td>\n",
       "      <td>C553264065</td>\n",
       "      <td>0.0</td>\n",
       "      <td>0.0</td>\n",
       "      <td>1</td>\n",
       "      <td>0</td>\n",
       "      <td>0 days 01:00:00</td>\n",
       "      <td>1</td>\n",
       "      <td>0</td>\n",
       "    </tr>\n",
       "    <tr>\n",
       "      <th>3</th>\n",
       "      <td>1</td>\n",
       "      <td>CASH_OUT</td>\n",
       "      <td>181.00</td>\n",
       "      <td>C840083671</td>\n",
       "      <td>181.0</td>\n",
       "      <td>0.00</td>\n",
       "      <td>C38997010</td>\n",
       "      <td>21182.0</td>\n",
       "      <td>0.0</td>\n",
       "      <td>1</td>\n",
       "      <td>0</td>\n",
       "      <td>0 days 01:00:00</td>\n",
       "      <td>1</td>\n",
       "      <td>0</td>\n",
       "    </tr>\n",
       "    <tr>\n",
       "      <th>4</th>\n",
       "      <td>1</td>\n",
       "      <td>PAYMENT</td>\n",
       "      <td>11668.14</td>\n",
       "      <td>C2048537720</td>\n",
       "      <td>41554.0</td>\n",
       "      <td>29885.86</td>\n",
       "      <td>M1230701703</td>\n",
       "      <td>0.0</td>\n",
       "      <td>0.0</td>\n",
       "      <td>0</td>\n",
       "      <td>0</td>\n",
       "      <td>0 days 01:00:00</td>\n",
       "      <td>1</td>\n",
       "      <td>0</td>\n",
       "    </tr>\n",
       "  </tbody>\n",
       "</table>\n",
       "</div>"
      ],
      "text/plain": [
       "   step      type    amount    name_orig  oldbalance_orig  newbalance_orig  \\\n",
       "0     1   PAYMENT   9839.64  C1231006815         170136.0        160296.36   \n",
       "1     1   PAYMENT   1864.28  C1666544295          21249.0         19384.72   \n",
       "2     1  TRANSFER    181.00  C1305486145            181.0             0.00   \n",
       "3     1  CASH_OUT    181.00   C840083671            181.0             0.00   \n",
       "4     1   PAYMENT  11668.14  C2048537720          41554.0         29885.86   \n",
       "\n",
       "     name_dest  oldbalance_dest  newbalance_dest  is_fraud  is_flagged_fraud  \\\n",
       "0  M1979787155              0.0              0.0         0                 0   \n",
       "1  M2044282225              0.0              0.0         0                 0   \n",
       "2   C553264065              0.0              0.0         1                 0   \n",
       "3    C38997010          21182.0              0.0         1                 0   \n",
       "4  M1230701703              0.0              0.0         0                 0   \n",
       "\n",
       "             date  hour  day  \n",
       "0 0 days 01:00:00     1    0  \n",
       "1 0 days 01:00:00     1    0  \n",
       "2 0 days 01:00:00     1    0  \n",
       "3 0 days 01:00:00     1    0  \n",
       "4 0 days 01:00:00     1    0  "
      ]
     },
     "execution_count": 16,
     "metadata": {},
     "output_type": "execute_result"
    }
   ],
   "source": [
    "df.head()"
   ]
  },
  {
   "cell_type": "code",
   "execution_count": 17,
   "metadata": {},
   "outputs": [
    {
     "data": {
      "text/plain": [
       "step                          int64\n",
       "type                         object\n",
       "amount                      float64\n",
       "name_orig                    object\n",
       "oldbalance_orig             float64\n",
       "newbalance_orig             float64\n",
       "name_dest                    object\n",
       "oldbalance_dest             float64\n",
       "newbalance_dest             float64\n",
       "is_fraud                      int64\n",
       "is_flagged_fraud              int64\n",
       "date                timedelta64[ns]\n",
       "hour                          int64\n",
       "day                           int64\n",
       "dtype: object"
      ]
     },
     "execution_count": 17,
     "metadata": {},
     "output_type": "execute_result"
    }
   ],
   "source": [
    "df.dtypes"
   ]
  },
  {
   "cell_type": "code",
   "execution_count": 5,
   "metadata": {},
   "outputs": [],
   "source": [
    "df['date']=''\n",
    "df['date']=pd.to_timedelta(df['step'],unit='h')\n",
    "df['hour']=''\n",
    "df['hour']=df['date'].dt.components['hours']\n",
    "df['day']=''\n",
    "df['day']=df['date'].dt.components['days']\n"
   ]
  },
  {
   "cell_type": "code",
   "execution_count": 6,
   "metadata": {},
   "outputs": [],
   "source": [
    "num_attributes = df.select_dtypes(include=['int64','float64'])\n",
    "cat_attributes = df.select_dtypes(exclude=['int64','float64','timedelta64[ns]'])\n",
    "d1 = num_attributes.describe().T\n",
    "d2 = pd.DataFrame(num_attributes.apply(lambda x: x.skew()))\n",
    "d2.columns = ['skew']\n",
    "d3 = pd.DataFrame(num_attributes.apply(lambda x: x.kurtosis()))\n",
    "d3.columns = ['kurtosis']\n",
    "num_attributes_describe = pd.concat([d1,d2,d3],axis=1).reset_index()"
   ]
  },
  {
   "cell_type": "code",
   "execution_count": 32,
   "metadata": {},
   "outputs": [
    {
     "data": {
      "text/html": [
       "<div>\n",
       "<style scoped>\n",
       "    .dataframe tbody tr th:only-of-type {\n",
       "        vertical-align: middle;\n",
       "    }\n",
       "\n",
       "    .dataframe tbody tr th {\n",
       "        vertical-align: top;\n",
       "    }\n",
       "\n",
       "    .dataframe thead th {\n",
       "        text-align: right;\n",
       "    }\n",
       "</style>\n",
       "<table border=\"1\" class=\"dataframe\">\n",
       "  <thead>\n",
       "    <tr style=\"text-align: right;\">\n",
       "      <th></th>\n",
       "      <th>index</th>\n",
       "      <th>count</th>\n",
       "      <th>mean</th>\n",
       "      <th>std</th>\n",
       "      <th>min</th>\n",
       "      <th>25%</th>\n",
       "      <th>50%</th>\n",
       "      <th>75%</th>\n",
       "      <th>max</th>\n",
       "      <th>skew</th>\n",
       "      <th>kurtosis</th>\n",
       "    </tr>\n",
       "  </thead>\n",
       "  <tbody>\n",
       "    <tr>\n",
       "      <th>0</th>\n",
       "      <td>step</td>\n",
       "      <td>6362620.000</td>\n",
       "      <td>243.397</td>\n",
       "      <td>142.332</td>\n",
       "      <td>1.000</td>\n",
       "      <td>156.000</td>\n",
       "      <td>239.000</td>\n",
       "      <td>335.000</td>\n",
       "      <td>743.000</td>\n",
       "      <td>0.375</td>\n",
       "      <td>0.329</td>\n",
       "    </tr>\n",
       "    <tr>\n",
       "      <th>1</th>\n",
       "      <td>amount</td>\n",
       "      <td>6362620.000</td>\n",
       "      <td>179861.904</td>\n",
       "      <td>603858.231</td>\n",
       "      <td>0.000</td>\n",
       "      <td>13389.570</td>\n",
       "      <td>74871.940</td>\n",
       "      <td>208721.478</td>\n",
       "      <td>92445516.640</td>\n",
       "      <td>30.994</td>\n",
       "      <td>1797.957</td>\n",
       "    </tr>\n",
       "    <tr>\n",
       "      <th>2</th>\n",
       "      <td>oldbalance_orig</td>\n",
       "      <td>6362620.000</td>\n",
       "      <td>833883.104</td>\n",
       "      <td>2888242.673</td>\n",
       "      <td>0.000</td>\n",
       "      <td>0.000</td>\n",
       "      <td>14208.000</td>\n",
       "      <td>107315.175</td>\n",
       "      <td>59585040.370</td>\n",
       "      <td>5.249</td>\n",
       "      <td>32.965</td>\n",
       "    </tr>\n",
       "    <tr>\n",
       "      <th>3</th>\n",
       "      <td>newbalance_orig</td>\n",
       "      <td>6362620.000</td>\n",
       "      <td>855113.669</td>\n",
       "      <td>2924048.503</td>\n",
       "      <td>0.000</td>\n",
       "      <td>0.000</td>\n",
       "      <td>0.000</td>\n",
       "      <td>144258.410</td>\n",
       "      <td>49585040.370</td>\n",
       "      <td>5.177</td>\n",
       "      <td>32.067</td>\n",
       "    </tr>\n",
       "    <tr>\n",
       "      <th>4</th>\n",
       "      <td>oldbalance_dest</td>\n",
       "      <td>6362620.000</td>\n",
       "      <td>1100701.667</td>\n",
       "      <td>3399180.113</td>\n",
       "      <td>0.000</td>\n",
       "      <td>0.000</td>\n",
       "      <td>132705.665</td>\n",
       "      <td>943036.708</td>\n",
       "      <td>356015889.350</td>\n",
       "      <td>19.922</td>\n",
       "      <td>948.674</td>\n",
       "    </tr>\n",
       "    <tr>\n",
       "      <th>5</th>\n",
       "      <td>newbalance_dest</td>\n",
       "      <td>6362620.000</td>\n",
       "      <td>1224996.398</td>\n",
       "      <td>3674128.942</td>\n",
       "      <td>0.000</td>\n",
       "      <td>0.000</td>\n",
       "      <td>214661.440</td>\n",
       "      <td>1111909.250</td>\n",
       "      <td>356179278.920</td>\n",
       "      <td>19.352</td>\n",
       "      <td>862.157</td>\n",
       "    </tr>\n",
       "    <tr>\n",
       "      <th>6</th>\n",
       "      <td>is_fraud</td>\n",
       "      <td>6362620.000</td>\n",
       "      <td>0.001</td>\n",
       "      <td>0.036</td>\n",
       "      <td>0.000</td>\n",
       "      <td>0.000</td>\n",
       "      <td>0.000</td>\n",
       "      <td>0.000</td>\n",
       "      <td>1.000</td>\n",
       "      <td>27.780</td>\n",
       "      <td>769.703</td>\n",
       "    </tr>\n",
       "    <tr>\n",
       "      <th>7</th>\n",
       "      <td>is_flagged_fraud</td>\n",
       "      <td>6362620.000</td>\n",
       "      <td>0.000</td>\n",
       "      <td>0.002</td>\n",
       "      <td>0.000</td>\n",
       "      <td>0.000</td>\n",
       "      <td>0.000</td>\n",
       "      <td>0.000</td>\n",
       "      <td>1.000</td>\n",
       "      <td>630.604</td>\n",
       "      <td>397659.062</td>\n",
       "    </tr>\n",
       "    <tr>\n",
       "      <th>8</th>\n",
       "      <td>hour</td>\n",
       "      <td>6362620.000</td>\n",
       "      <td>15.321</td>\n",
       "      <td>4.322</td>\n",
       "      <td>0.000</td>\n",
       "      <td>12.000</td>\n",
       "      <td>16.000</td>\n",
       "      <td>19.000</td>\n",
       "      <td>23.000</td>\n",
       "      <td>-0.606</td>\n",
       "      <td>0.684</td>\n",
       "    </tr>\n",
       "    <tr>\n",
       "      <th>9</th>\n",
       "      <td>day</td>\n",
       "      <td>6362620.000</td>\n",
       "      <td>9.503</td>\n",
       "      <td>5.922</td>\n",
       "      <td>0.000</td>\n",
       "      <td>6.000</td>\n",
       "      <td>9.000</td>\n",
       "      <td>13.000</td>\n",
       "      <td>30.000</td>\n",
       "      <td>0.378</td>\n",
       "      <td>0.332</td>\n",
       "    </tr>\n",
       "  </tbody>\n",
       "</table>\n",
       "</div>"
      ],
      "text/plain": [
       "              index       count        mean         std   min       25%  \\\n",
       "0              step 6362620.000     243.397     142.332 1.000   156.000   \n",
       "1            amount 6362620.000  179861.904  603858.231 0.000 13389.570   \n",
       "2   oldbalance_orig 6362620.000  833883.104 2888242.673 0.000     0.000   \n",
       "3   newbalance_orig 6362620.000  855113.669 2924048.503 0.000     0.000   \n",
       "4   oldbalance_dest 6362620.000 1100701.667 3399180.113 0.000     0.000   \n",
       "5   newbalance_dest 6362620.000 1224996.398 3674128.942 0.000     0.000   \n",
       "6          is_fraud 6362620.000       0.001       0.036 0.000     0.000   \n",
       "7  is_flagged_fraud 6362620.000       0.000       0.002 0.000     0.000   \n",
       "8              hour 6362620.000      15.321       4.322 0.000    12.000   \n",
       "9               day 6362620.000       9.503       5.922 0.000     6.000   \n",
       "\n",
       "         50%         75%           max    skew   kurtosis  \n",
       "0    239.000     335.000       743.000   0.375      0.329  \n",
       "1  74871.940  208721.478  92445516.640  30.994   1797.957  \n",
       "2  14208.000  107315.175  59585040.370   5.249     32.965  \n",
       "3      0.000  144258.410  49585040.370   5.177     32.067  \n",
       "4 132705.665  943036.708 356015889.350  19.922    948.674  \n",
       "5 214661.440 1111909.250 356179278.920  19.352    862.157  \n",
       "6      0.000       0.000         1.000  27.780    769.703  \n",
       "7      0.000       0.000         1.000 630.604 397659.062  \n",
       "8     16.000      19.000        23.000  -0.606      0.684  \n",
       "9      9.000      13.000        30.000   0.378      0.332  "
      ]
     },
     "execution_count": 32,
     "metadata": {},
     "output_type": "execute_result"
    }
   ],
   "source": [
    "num_attributes_describe"
   ]
  },
  {
   "cell_type": "code",
   "execution_count": 33,
   "metadata": {},
   "outputs": [
    {
     "data": {
      "image/png": "[encoded data removed]",
      "text/plain": [
       "<Figure size 936x648 with 3 Axes>"
      ]
     },
     "metadata": {
      "needs_background": "light"
     },
     "output_type": "display_data"
    }
   ],
   "source": [
    "# There is a specific time when fraud occur more frequently - FALSE\n",
    "rcParams['figure.figsize'] = 13,9\n",
    "aux=df[['step','is_fraud']].groupby('step').sum().reset_index()\n",
    "plt.subplot(3,1,1)\n",
    "sns.scatterplot(x='step',y='is_fraud',data=aux)\n",
    "\n",
    "aux1=df[['is_fraud','hour']].groupby('hour').sum().reset_index()\n",
    "plt.subplot(3,1,2)\n",
    "sns.barplot(x='hour',y='is_fraud',data=aux1);\n",
    "\n",
    "aux1_1=df[['is_fraud','day']].groupby('day').sum().reset_index()\n",
    "plt.subplot(3,1,3)\n",
    "sns.barplot(x='day',y='is_fraud',data=aux1_1);"
   ]
  },
  {
   "cell_type": "code",
   "execution_count": 8,
   "metadata": {},
   "outputs": [
    {
     "name": "stdout",
     "output_type": "stream",
     "text": [
      "(8169, 2)\n",
      "(44, 3)\n",
      "Only 0.54% of the fraudulent transactions repeat the destination account\n"
     ]
    }
   ],
   "source": [
    "# Destination account that has received a fraudulent transaction before is more likely to repeat the fraud - False\n",
    "aux2=df.loc[df['is_fraud']==1]\n",
    "aux3=aux2[['name_dest','is_fraud']].groupby('name_dest').sum().reset_index()\n",
    "aux4 = aux3.loc[aux3['is_fraud']>=2].reset_index()\n",
    "print(aux3.shape)\n",
    "print(aux4.shape)\n",
    "print('Only {:.2f}% of the fraudulent transactions repeat the destination account'.format(aux4.shape[0]/aux2['is_fraud'].shape[0]*100))"
   ]
  },
  {
   "cell_type": "code",
   "execution_count": 61,
   "metadata": {},
   "outputs": [
    {
     "name": "stdout",
     "output_type": "stream",
     "text": [
      "No of transactions which the amount is bigger than 200k: 1673570\n",
      "No of transactions flagged as fraud: 16\n"
     ]
    }
   ],
   "source": [
    "# isFlaggedFraud - The business model aims to control massive transfers from one account to another and flags \n",
    "# illegal attempts. An illegal attempt in this dataset is an attempt to transfer more than 200.000 in a \n",
    "# single transaction. \n",
    "aux5=df.loc[df['amount']>=200000].shape[0]\n",
    "aux6=df.loc[df['is_flagged_fraud']==1].shape[0]\n",
    "print('No of transactions which the amount is bigger than 200k: {}'.format(aux5))\n",
    "print('No of transactions flagged as fraud: {}'.format(aux6))"
   ]
  },
  {
   "cell_type": "code",
   "execution_count": null,
   "metadata": {},
   "outputs": [],
   "source": []
  },
  {
   "cell_type": "code",
   "execution_count": 57,
   "metadata": {},
   "outputs": [
    {
     "data": {
      "text/plain": [
       "1673570"
      ]
     },
     "execution_count": 57,
     "metadata": {},
     "output_type": "execute_result"
    }
   ],
   "source": []
  },
  {
   "cell_type": "code",
   "execution_count": null,
   "metadata": {},
   "outputs": [],
   "source": []
  }
 ],
 "metadata": {
  "kernelspec": {
   "display_name": "fraud_detector",
   "language": "python",
   "name": "python3"
  },
  "language_info": {
   "codemirror_mode": {
    "name": "ipython",
    "version": 3
   },
   "file_extension": ".py",
   "mimetype": "text/x-python",
   "name": "python",
   "nbconvert_exporter": "python",
   "pygments_lexer": "ipython3",
   "version": "3.9.16"
  },
  "orig_nbformat": 4,
  "vscode": {
   "interpreter": {
    "hash": "dad31b6817a37ad45234e9efecbd8f251c88b8a6fb4d378b6fe9fbb308aa955c"
   }
  }
 },
 "nbformat": 4,
 "nbformat_minor": 2
}
