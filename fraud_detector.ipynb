{
 "cells": [
  {
   "cell_type": "code",
   "execution_count": 28,
   "metadata": {},
   "outputs": [],
   "source": [
    "import pandas as pd\n",
    "import inflection"
   ]
  },
  {
   "cell_type": "code",
   "execution_count": 27,
   "metadata": {},
   "outputs": [],
   "source": [
    "df = pd.read_csv('raw_data/raw_data.csv')"
   ]
  },
  {
   "cell_type": "code",
   "execution_count": 36,
   "metadata": {},
   "outputs": [
    {
     "data": {
      "text/plain": [
       "Index(['step', 'type', 'amount', 'name_orig', 'oldbalance_orig',\n",
       "       'newbalance_orig', 'name_dest', 'oldbalance_dest', 'newbalance_dest',\n",
       "       'is_fraud', 'is_flagged_fraud'],\n",
       "      dtype='object')"
      ]
     },
     "execution_count": 36,
     "metadata": {},
     "output_type": "execute_result"
    }
   ],
   "source": [
    "cols_old = ['step', 'type', 'amount', 'nameOrig', 'oldbalanceOrig', 'newbalanceOrig',\n",
    "       'nameDest', 'oldbalanceDest', 'newbalanceDest', 'isFraud',\n",
    "       'isFlaggedFraud']\n",
    "snakecase = lambda x: inflection.underscore(x)\n",
    "cols_new = list(map(snakecase,cols_old))\n",
    "df.columns = cols_new\n",
    "df.columns"
   ]
  },
  {
   "cell_type": "code",
   "execution_count": 37,
   "metadata": {},
   "outputs": [],
   "source": [
    "df['date']=''\n",
    "df['date']=pd.to_timedelta(df['step'],unit='h')"
   ]
  },
  {
   "cell_type": "code",
   "execution_count": 50,
   "metadata": {},
   "outputs": [
    {
     "data": {
      "text/plain": [
       "step                8213\n",
       "type                8213\n",
       "amount              8213\n",
       "name_orig           8213\n",
       "oldbalance_orig     8213\n",
       "newbalance_orig     8213\n",
       "name_dest           8213\n",
       "oldbalance_dest     8213\n",
       "newbalance_dest     8213\n",
       "is_fraud            8213\n",
       "is_flagged_fraud    8213\n",
       "date                8213\n",
       "dtype: int64"
      ]
     },
     "execution_count": 50,
     "metadata": {},
     "output_type": "execute_result"
    }
   ],
   "source": [
    "df[df['is_fraud']==1].count()"
   ]
  },
  {
   "cell_type": "code",
   "execution_count": 33,
   "metadata": {},
   "outputs": [
    {
     "data": {
      "text/plain": [
       "Index(['step', 'type', 'amount', 'name_orig', 'oldbalance_orig',\n",
       "       'newbalance_orig', 'name_dest', 'oldbalance_dest', 'newbalance_dest',\n",
       "       'is_fraud', 'is_flagged_fraud'],\n",
       "      dtype='object')"
      ]
     },
     "execution_count": 33,
     "metadata": {},
     "output_type": "execute_result"
    }
   ],
   "source": []
  },
  {
   "cell_type": "code",
   "execution_count": null,
   "metadata": {},
   "outputs": [],
   "source": [
    "df[['isFlaggedFraud','isFraud']].groupby('isFlaggedFraud').sum().reset_index()"
   ]
  }
 ],
 "metadata": {
  "kernelspec": {
   "display_name": "fraud_detector",
   "language": "python",
   "name": "python3"
  },
  "language_info": {
   "codemirror_mode": {
    "name": "ipython",
    "version": 3
   },
   "file_extension": ".py",
   "mimetype": "text/x-python",
   "name": "python",
   "nbconvert_exporter": "python",
   "pygments_lexer": "ipython3",
   "version": "3.9.16"
  },
  "orig_nbformat": 4,
  "vscode": {
   "interpreter": {
    "hash": "dad31b6817a37ad45234e9efecbd8f251c88b8a6fb4d378b6fe9fbb308aa955c"
   }
  }
 },
 "nbformat": 4,
 "nbformat_minor": 2
}
